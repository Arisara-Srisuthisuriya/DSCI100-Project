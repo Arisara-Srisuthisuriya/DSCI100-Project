{
 "cells": [
  {
   "cell_type": "markdown",
   "id": "53296056-dd4e-45a6-9d69-d5ef6465d2bc",
   "metadata": {},
   "source": [
    "# Topic"
   ]
  },
  {
   "cell_type": "markdown",
   "id": "b5d6179d-2e50-4325-919d-6bad19c306c7",
   "metadata": {},
   "source": [
    "## 1. Introduction"
   ]
  },
  {
   "cell_type": "markdown",
   "id": "68c6f1ad-b573-494a-b16a-fed5e9184ff1",
   "metadata": {},
   "source": [
    "Auditing is the process of investigating financial records of businesses to ensure that their financial statements align with the internationally-accepted legal standards. The data set used in this project is the collection of present and historical risk factors relevant to assisting auditors in appropriately identifying businesses that are risky of committing unfair practices (N. Hooda et al., 2018).\n",
    "\n",
    "Precisely, we will be using the Audit Data collected by the Comptroller and Auditor General (CAG). CAG of India is an independent constitutional body entrusted with the task of auditing the financial transactions of government-funded firms. They collected comprehensive non-confidential data from the Auditor General Office (AGO), with a focus on 777 firms from 46 Indian cities between the years 2015 to 2016. The target companies were then grouped into 14 different sectors.\n",
    "\n",
    "This data analytic project revolves around the application of predictive analytics in the classification of fraudulent firms using the case study above. Therefore, this project will attempt to tackle the following research question: Is a business risky or not risky of committing fraud based on its Inherent, Control and Detection Risk scores?\n",
    "\n",
    "The variables we will use to answer this question are the potential discrepancies that can occur during the companies’ transactions (Inherent Risk), internal audit (Control Risk) and external audit (Detection Risk). The product of these variables will give us the Audit Risk score (ARS). In the risk assessment, the companies with ARS scores more than or equal to 1 are identified as “risky” firms and are assigned a risk assessment value of 1, and companies scoring less than 1 are classified as “not risky” firms, getting a risk assessment score of 0.\n"
   ]
  },
  {
   "cell_type": "markdown",
   "id": "a2893651-9aab-4a73-91c7-3c8dae3ea740",
   "metadata": {},
   "source": [
    "## 2. Preliminary Explanatory Data Analysis"
   ]
  },
  {
   "cell_type": "code",
   "execution_count": 52,
   "id": "806e53b5-2f45-4534-98a5-f8bf1a48b26a",
   "metadata": {},
   "outputs": [],
   "source": [
    "#load library\n",
    "options(repr.matrix.max.rows=8)\n",
    "library(tidyverse)\n",
    "library(tidymodels)\n",
    "library(repr)\n",
    "library(cowplot)"
   ]
  },
  {
   "cell_type": "code",
   "execution_count": 53,
   "id": "197600d6-df36-469a-baed-977c54b927f6",
   "metadata": {},
   "outputs": [
    {
     "name": "stderr",
     "output_type": "stream",
     "text": [
      "\u001b[1m\u001b[22mNew names:\n",
      "\u001b[36m•\u001b[39m `Score_B` -> `Score_B...7`\n",
      "\u001b[36m•\u001b[39m `Score_B` -> `Score_B...11`\n",
      "\u001b[1mRows: \u001b[22m\u001b[34m776\u001b[39m \u001b[1mColumns: \u001b[22m\u001b[34m27\u001b[39m\n",
      "\u001b[36m──\u001b[39m \u001b[1mColumn specification\u001b[22m \u001b[36m────────────────────────────────────────────────────────\u001b[39m\n",
      "\u001b[1mDelimiter:\u001b[22m \",\"\n",
      "\u001b[31mchr\u001b[39m  (1): LOCATION_ID\n",
      "\u001b[32mdbl\u001b[39m (26): Sector_score, PARA_A, Score_A, Risk_A, PARA_B, Score_B...7, Risk_B...\n",
      "\n",
      "\u001b[36mℹ\u001b[39m Use `spec()` to retrieve the full column specification for this data.\n",
      "\u001b[36mℹ\u001b[39m Specify the column types or set `show_col_types = FALSE` to quiet this message.\n",
      "Warning message in mask$eval_all_mutate(quo):\n",
      "“NAs introduced by coercion”\n"
     ]
    },
    {
     "data": {
      "text/html": [
       "<table class=\"dataframe\">\n",
       "<caption>A tibble: 581 × 27</caption>\n",
       "<thead>\n",
       "\t<tr><th scope=col>Sector_score</th><th scope=col>LOCATION_ID</th><th scope=col>PARA_A</th><th scope=col>Score_A</th><th scope=col>Risk_A</th><th scope=col>PARA_B</th><th scope=col>Score_B...7</th><th scope=col>Risk_B</th><th scope=col>TOTAL</th><th scope=col>numbers</th><th scope=col>⋯</th><th scope=col>RiSk_E</th><th scope=col>History</th><th scope=col>Prob</th><th scope=col>Risk_F</th><th scope=col>Score</th><th scope=col>Inherent_Risk</th><th scope=col>CONTROL_RISK</th><th scope=col>Detection_Risk</th><th scope=col>Audit_Risk</th><th scope=col>Risk</th></tr>\n",
       "\t<tr><th scope=col>&lt;dbl&gt;</th><th scope=col>&lt;int&gt;</th><th scope=col>&lt;dbl&gt;</th><th scope=col>&lt;dbl&gt;</th><th scope=col>&lt;dbl&gt;</th><th scope=col>&lt;dbl&gt;</th><th scope=col>&lt;dbl&gt;</th><th scope=col>&lt;dbl&gt;</th><th scope=col>&lt;dbl&gt;</th><th scope=col>&lt;dbl&gt;</th><th scope=col>⋯</th><th scope=col>&lt;dbl&gt;</th><th scope=col>&lt;dbl&gt;</th><th scope=col>&lt;dbl&gt;</th><th scope=col>&lt;dbl&gt;</th><th scope=col>&lt;dbl&gt;</th><th scope=col>&lt;dbl&gt;</th><th scope=col>&lt;dbl&gt;</th><th scope=col>&lt;dbl&gt;</th><th scope=col>&lt;dbl&gt;</th><th scope=col>&lt;fct&gt;</th></tr>\n",
       "</thead>\n",
       "<tbody>\n",
       "\t<tr><td>3.89</td><td>6</td><td>0.51</td><td>0.2</td><td>0.102</td><td>0.23</td><td>0.2</td><td>0.046</td><td>0.74</td><td>5</td><td>⋯</td><td>0.4</td><td>0</td><td>0.2</td><td>0</td><td>2.0</td><td>1.548</td><td>0.4</td><td>0.5</td><td>0.3096</td><td>0</td></tr>\n",
       "\t<tr><td>3.89</td><td>6</td><td>0.00</td><td>0.2</td><td>0.000</td><td>0.08</td><td>0.2</td><td>0.016</td><td>0.08</td><td>5</td><td>⋯</td><td>0.4</td><td>0</td><td>0.2</td><td>0</td><td>2.0</td><td>1.416</td><td>0.4</td><td>0.5</td><td>0.2832</td><td>0</td></tr>\n",
       "\t<tr><td>3.89</td><td>6</td><td>0.00</td><td>0.2</td><td>0.000</td><td>0.83</td><td>0.2</td><td>0.166</td><td>0.83</td><td>5</td><td>⋯</td><td>0.4</td><td>0</td><td>0.2</td><td>0</td><td>2.0</td><td>2.156</td><td>0.4</td><td>0.5</td><td>0.4312</td><td>0</td></tr>\n",
       "\t<tr><td>3.89</td><td>8</td><td>3.98</td><td>0.6</td><td>2.388</td><td>0.99</td><td>0.2</td><td>0.198</td><td>4.97</td><td>5</td><td>⋯</td><td>0.4</td><td>0</td><td>0.2</td><td>0</td><td>2.4</td><td>4.372</td><td>0.4</td><td>0.5</td><td>0.8744</td><td>0</td></tr>\n",
       "\t<tr><td>⋮</td><td>⋮</td><td>⋮</td><td>⋮</td><td>⋮</td><td>⋮</td><td>⋮</td><td>⋮</td><td>⋮</td><td>⋮</td><td>⋱</td><td>⋮</td><td>⋮</td><td>⋮</td><td>⋮</td><td>⋮</td><td>⋮</td><td>⋮</td><td>⋮</td><td>⋮</td><td>⋮</td></tr>\n",
       "\t<tr><td>55.57</td><td> 2</td><td>0.00</td><td>0.2</td><td>0.000</td><td>0.00</td><td>0.2</td><td>0.000</td><td>0.00</td><td>5</td><td>⋯</td><td>1.2</td><td>0</td><td>0.2</td><td>0</td><td>2.4</td><td> 2.200</td><td>1.2</td><td>0.5</td><td>1.3200</td><td>1</td></tr>\n",
       "\t<tr><td>55.57</td><td> 2</td><td>1.06</td><td>0.4</td><td>0.424</td><td>0.63</td><td>0.2</td><td>0.126</td><td>1.69</td><td>5</td><td>⋯</td><td>1.2</td><td>0</td><td>0.2</td><td>0</td><td>2.6</td><td> 2.930</td><td>1.2</td><td>0.5</td><td>1.7580</td><td>1</td></tr>\n",
       "\t<tr><td>55.57</td><td>32</td><td>0.00</td><td>0.2</td><td>0.000</td><td>8.49</td><td>0.6</td><td>5.094</td><td>8.49</td><td>5</td><td>⋯</td><td>0.4</td><td>0</td><td>0.2</td><td>0</td><td>3.2</td><td> 6.580</td><td>0.4</td><td>0.5</td><td>1.3160</td><td>1</td></tr>\n",
       "\t<tr><td>55.57</td><td>13</td><td>1.06</td><td>0.4</td><td>0.424</td><td>1.60</td><td>0.4</td><td>0.640</td><td>2.66</td><td>5</td><td>⋯</td><td>0.4</td><td>0</td><td>0.2</td><td>0</td><td>3.2</td><td>12.118</td><td>0.4</td><td>0.5</td><td>2.4236</td><td>1</td></tr>\n",
       "</tbody>\n",
       "</table>\n"
      ],
      "text/latex": [
       "A tibble: 581 × 27\n",
       "\\begin{tabular}{lllllllllllllllllllll}\n",
       " Sector\\_score & LOCATION\\_ID & PARA\\_A & Score\\_A & Risk\\_A & PARA\\_B & Score\\_B...7 & Risk\\_B & TOTAL & numbers & ⋯ & RiSk\\_E & History & Prob & Risk\\_F & Score & Inherent\\_Risk & CONTROL\\_RISK & Detection\\_Risk & Audit\\_Risk & Risk\\\\\n",
       " <dbl> & <int> & <dbl> & <dbl> & <dbl> & <dbl> & <dbl> & <dbl> & <dbl> & <dbl> & ⋯ & <dbl> & <dbl> & <dbl> & <dbl> & <dbl> & <dbl> & <dbl> & <dbl> & <dbl> & <fct>\\\\\n",
       "\\hline\n",
       "\t 3.89 & 6 & 0.51 & 0.2 & 0.102 & 0.23 & 0.2 & 0.046 & 0.74 & 5 & ⋯ & 0.4 & 0 & 0.2 & 0 & 2.0 & 1.548 & 0.4 & 0.5 & 0.3096 & 0\\\\\n",
       "\t 3.89 & 6 & 0.00 & 0.2 & 0.000 & 0.08 & 0.2 & 0.016 & 0.08 & 5 & ⋯ & 0.4 & 0 & 0.2 & 0 & 2.0 & 1.416 & 0.4 & 0.5 & 0.2832 & 0\\\\\n",
       "\t 3.89 & 6 & 0.00 & 0.2 & 0.000 & 0.83 & 0.2 & 0.166 & 0.83 & 5 & ⋯ & 0.4 & 0 & 0.2 & 0 & 2.0 & 2.156 & 0.4 & 0.5 & 0.4312 & 0\\\\\n",
       "\t 3.89 & 8 & 3.98 & 0.6 & 2.388 & 0.99 & 0.2 & 0.198 & 4.97 & 5 & ⋯ & 0.4 & 0 & 0.2 & 0 & 2.4 & 4.372 & 0.4 & 0.5 & 0.8744 & 0\\\\\n",
       "\t ⋮ & ⋮ & ⋮ & ⋮ & ⋮ & ⋮ & ⋮ & ⋮ & ⋮ & ⋮ & ⋱ & ⋮ & ⋮ & ⋮ & ⋮ & ⋮ & ⋮ & ⋮ & ⋮ & ⋮ & ⋮\\\\\n",
       "\t 55.57 &  2 & 0.00 & 0.2 & 0.000 & 0.00 & 0.2 & 0.000 & 0.00 & 5 & ⋯ & 1.2 & 0 & 0.2 & 0 & 2.4 &  2.200 & 1.2 & 0.5 & 1.3200 & 1\\\\\n",
       "\t 55.57 &  2 & 1.06 & 0.4 & 0.424 & 0.63 & 0.2 & 0.126 & 1.69 & 5 & ⋯ & 1.2 & 0 & 0.2 & 0 & 2.6 &  2.930 & 1.2 & 0.5 & 1.7580 & 1\\\\\n",
       "\t 55.57 & 32 & 0.00 & 0.2 & 0.000 & 8.49 & 0.6 & 5.094 & 8.49 & 5 & ⋯ & 0.4 & 0 & 0.2 & 0 & 3.2 &  6.580 & 0.4 & 0.5 & 1.3160 & 1\\\\\n",
       "\t 55.57 & 13 & 1.06 & 0.4 & 0.424 & 1.60 & 0.4 & 0.640 & 2.66 & 5 & ⋯ & 0.4 & 0 & 0.2 & 0 & 3.2 & 12.118 & 0.4 & 0.5 & 2.4236 & 1\\\\\n",
       "\\end{tabular}\n"
      ],
      "text/markdown": [
       "\n",
       "A tibble: 581 × 27\n",
       "\n",
       "| Sector_score &lt;dbl&gt; | LOCATION_ID &lt;int&gt; | PARA_A &lt;dbl&gt; | Score_A &lt;dbl&gt; | Risk_A &lt;dbl&gt; | PARA_B &lt;dbl&gt; | Score_B...7 &lt;dbl&gt; | Risk_B &lt;dbl&gt; | TOTAL &lt;dbl&gt; | numbers &lt;dbl&gt; | ⋯ ⋯ | RiSk_E &lt;dbl&gt; | History &lt;dbl&gt; | Prob &lt;dbl&gt; | Risk_F &lt;dbl&gt; | Score &lt;dbl&gt; | Inherent_Risk &lt;dbl&gt; | CONTROL_RISK &lt;dbl&gt; | Detection_Risk &lt;dbl&gt; | Audit_Risk &lt;dbl&gt; | Risk &lt;fct&gt; |\n",
       "|---|---|---|---|---|---|---|---|---|---|---|---|---|---|---|---|---|---|---|---|---|\n",
       "| 3.89 | 6 | 0.51 | 0.2 | 0.102 | 0.23 | 0.2 | 0.046 | 0.74 | 5 | ⋯ | 0.4 | 0 | 0.2 | 0 | 2.0 | 1.548 | 0.4 | 0.5 | 0.3096 | 0 |\n",
       "| 3.89 | 6 | 0.00 | 0.2 | 0.000 | 0.08 | 0.2 | 0.016 | 0.08 | 5 | ⋯ | 0.4 | 0 | 0.2 | 0 | 2.0 | 1.416 | 0.4 | 0.5 | 0.2832 | 0 |\n",
       "| 3.89 | 6 | 0.00 | 0.2 | 0.000 | 0.83 | 0.2 | 0.166 | 0.83 | 5 | ⋯ | 0.4 | 0 | 0.2 | 0 | 2.0 | 2.156 | 0.4 | 0.5 | 0.4312 | 0 |\n",
       "| 3.89 | 8 | 3.98 | 0.6 | 2.388 | 0.99 | 0.2 | 0.198 | 4.97 | 5 | ⋯ | 0.4 | 0 | 0.2 | 0 | 2.4 | 4.372 | 0.4 | 0.5 | 0.8744 | 0 |\n",
       "| ⋮ | ⋮ | ⋮ | ⋮ | ⋮ | ⋮ | ⋮ | ⋮ | ⋮ | ⋮ | ⋱ | ⋮ | ⋮ | ⋮ | ⋮ | ⋮ | ⋮ | ⋮ | ⋮ | ⋮ | ⋮ |\n",
       "| 55.57 |  2 | 0.00 | 0.2 | 0.000 | 0.00 | 0.2 | 0.000 | 0.00 | 5 | ⋯ | 1.2 | 0 | 0.2 | 0 | 2.4 |  2.200 | 1.2 | 0.5 | 1.3200 | 1 |\n",
       "| 55.57 |  2 | 1.06 | 0.4 | 0.424 | 0.63 | 0.2 | 0.126 | 1.69 | 5 | ⋯ | 1.2 | 0 | 0.2 | 0 | 2.6 |  2.930 | 1.2 | 0.5 | 1.7580 | 1 |\n",
       "| 55.57 | 32 | 0.00 | 0.2 | 0.000 | 8.49 | 0.6 | 5.094 | 8.49 | 5 | ⋯ | 0.4 | 0 | 0.2 | 0 | 3.2 |  6.580 | 0.4 | 0.5 | 1.3160 | 1 |\n",
       "| 55.57 | 13 | 1.06 | 0.4 | 0.424 | 1.60 | 0.4 | 0.640 | 2.66 | 5 | ⋯ | 0.4 | 0 | 0.2 | 0 | 3.2 | 12.118 | 0.4 | 0.5 | 2.4236 | 1 |\n",
       "\n"
      ],
      "text/plain": [
       "    Sector_score LOCATION_ID PARA_A Score_A Risk_A PARA_B Score_B...7 Risk_B\n",
       "1   3.89         6           0.51   0.2     0.102  0.23   0.2         0.046 \n",
       "2   3.89         6           0.00   0.2     0.000  0.08   0.2         0.016 \n",
       "3   3.89         6           0.00   0.2     0.000  0.83   0.2         0.166 \n",
       "4   3.89         8           3.98   0.6     2.388  0.99   0.2         0.198 \n",
       "⋮   ⋮            ⋮           ⋮      ⋮       ⋮      ⋮      ⋮           ⋮     \n",
       "578 55.57         2          0.00   0.2     0.000  0.00   0.2         0.000 \n",
       "579 55.57         2          1.06   0.4     0.424  0.63   0.2         0.126 \n",
       "580 55.57        32          0.00   0.2     0.000  8.49   0.6         5.094 \n",
       "581 55.57        13          1.06   0.4     0.424  1.60   0.4         0.640 \n",
       "    TOTAL numbers ⋯ RiSk_E History Prob Risk_F Score Inherent_Risk CONTROL_RISK\n",
       "1   0.74  5       ⋯ 0.4    0       0.2  0      2.0   1.548         0.4         \n",
       "2   0.08  5       ⋯ 0.4    0       0.2  0      2.0   1.416         0.4         \n",
       "3   0.83  5       ⋯ 0.4    0       0.2  0      2.0   2.156         0.4         \n",
       "4   4.97  5       ⋯ 0.4    0       0.2  0      2.4   4.372         0.4         \n",
       "⋮   ⋮     ⋮       ⋱ ⋮      ⋮       ⋮    ⋮      ⋮     ⋮             ⋮           \n",
       "578 0.00  5       ⋯ 1.2    0       0.2  0      2.4    2.200        1.2         \n",
       "579 1.69  5       ⋯ 1.2    0       0.2  0      2.6    2.930        1.2         \n",
       "580 8.49  5       ⋯ 0.4    0       0.2  0      3.2    6.580        0.4         \n",
       "581 2.66  5       ⋯ 0.4    0       0.2  0      3.2   12.118        0.4         \n",
       "    Detection_Risk Audit_Risk Risk\n",
       "1   0.5            0.3096     0   \n",
       "2   0.5            0.2832     0   \n",
       "3   0.5            0.4312     0   \n",
       "4   0.5            0.8744     0   \n",
       "⋮   ⋮              ⋮          ⋮   \n",
       "578 0.5            1.3200     1   \n",
       "579 0.5            1.7580     1   \n",
       "580 0.5            1.3160     1   \n",
       "581 0.5            2.4236     1   "
      ]
     },
     "metadata": {},
     "output_type": "display_data"
    }
   ],
   "source": [
    "#Read dataset and correct variable types\n",
    "audit_data <- read_csv(\"data/audit_risk.csv\") |>\n",
    "    mutate(Risk = as.factor(Risk)) |>\n",
    "    mutate(LOCATION_ID = as.integer(LOCATION_ID))\n",
    "\n",
    "#Splitting data into training set and testing set\n",
    "set.seed(265)\n",
    "audit_split <- initial_split(audit_data, prop = 0.75, strata = Risk)\n",
    "audit_training <- training(audit_split)\n",
    "audit_testing <- testing(audit_split)\n",
    "\n",
    "#Printing training data set\n",
    "audit_training"
   ]
  },
  {
   "cell_type": "markdown",
   "id": "df988d2c-d60f-4483-9c1c-2fc57b89283b",
   "metadata": {},
   "source": [
    "Although the dataset does not include sector ID for each unique sector, we hypothesized that every individual sector should have its own historical risk score value (Sector_score). Thus, we will count how many unique sector scores there are, and the respective number of firms under each sector score. "
   ]
  },
  {
   "cell_type": "code",
   "execution_count": 54,
   "id": "8281f6d8-e53e-44ab-bbea-1053448f774f",
   "metadata": {},
   "outputs": [
    {
     "name": "stdout",
     "output_type": "stream",
     "text": [
      "\u001b[90m# A tibble: 42 × 2\u001b[39m\n",
      "   LOCATION_ID firm_count\n",
      "         \u001b[3m\u001b[90m<int>\u001b[39m\u001b[23m      \u001b[3m\u001b[90m<int>\u001b[39m\u001b[23m\n",
      "\u001b[90m 1\u001b[39m           1          9\n",
      "\u001b[90m 2\u001b[39m           2         33\n",
      "\u001b[90m 3\u001b[39m           3          3\n",
      "\u001b[90m 4\u001b[39m           4         27\n",
      "\u001b[90m 5\u001b[39m           5         35\n",
      "\u001b[90m 6\u001b[39m           6         27\n",
      "\u001b[90m 7\u001b[39m           7          4\n",
      "\u001b[90m 8\u001b[39m           8         58\n",
      "\u001b[90m 9\u001b[39m           9         42\n",
      "\u001b[90m10\u001b[39m          11         18\n",
      "\u001b[90m# … with 32 more rows\u001b[39m\n"
     ]
    }
   ],
   "source": [
    "#Table reporting number of sectors and number of firms under each sector\n",
    "firm_count <- audit_training |>\n",
    "    select(LOCATION_ID) |>\n",
    "group_by(LOCATION_ID) |>\n",
    "    summarise(firm_count = n())\n",
    "print(firm_count)"
   ]
  },
  {
   "cell_type": "markdown",
   "id": "34918440-56c0-442b-b510-a8a702ea0f05",
   "metadata": {},
   "source": [
    "The table above shows 13 different unique sector scores, however, there are supposed to be 14 sectors (N. Hooda et al., 2018). This also does not match up with some of the firm counts under each sector i.e. there should be 70 companies with 2.37 sector score and 77 with a sector score of 3.41. A reason for this could be that some sectors have equal sector risk scores, making the sector_score an inaccurate variable to count for the number of sectors and the number of firms under them. "
   ]
  },
  {
   "cell_type": "markdown",
   "id": "44e33915-4e28-407f-b2d8-a48a79c33dda",
   "metadata": {},
   "source": [
    "### Average"
   ]
  },
  {
   "cell_type": "code",
   "execution_count": 76,
   "id": "ff0e4407-bca1-42b7-b7b5-6e1eb0b58952",
   "metadata": {},
   "outputs": [
    {
     "data": {
      "text/html": [
       "<table class=\"dataframe\">\n",
       "<caption>A tibble: 1 × 5</caption>\n",
       "<thead>\n",
       "\t<tr><th scope=col>LOCATION_ID</th><th scope=col>Inherent_Risk</th><th scope=col>CONTROL_RISK</th><th scope=col>Detection_Risk</th><th scope=col>Audit_Risk</th></tr>\n",
       "\t<tr><th scope=col>&lt;dbl&gt;</th><th scope=col>&lt;dbl&gt;</th><th scope=col>&lt;dbl&gt;</th><th scope=col>&lt;dbl&gt;</th><th scope=col>&lt;dbl&gt;</th></tr>\n",
       "</thead>\n",
       "<tbody>\n",
       "\t<tr><td>14.57168</td><td>17.66497</td><td>0.5772806</td><td>0.5</td><td>6.275287</td></tr>\n",
       "</tbody>\n",
       "</table>\n"
      ],
      "text/latex": [
       "A tibble: 1 × 5\n",
       "\\begin{tabular}{lllll}\n",
       " LOCATION\\_ID & Inherent\\_Risk & CONTROL\\_RISK & Detection\\_Risk & Audit\\_Risk\\\\\n",
       " <dbl> & <dbl> & <dbl> & <dbl> & <dbl>\\\\\n",
       "\\hline\n",
       "\t 14.57168 & 17.66497 & 0.5772806 & 0.5 & 6.275287\\\\\n",
       "\\end{tabular}\n"
      ],
      "text/markdown": [
       "\n",
       "A tibble: 1 × 5\n",
       "\n",
       "| LOCATION_ID &lt;dbl&gt; | Inherent_Risk &lt;dbl&gt; | CONTROL_RISK &lt;dbl&gt; | Detection_Risk &lt;dbl&gt; | Audit_Risk &lt;dbl&gt; |\n",
       "|---|---|---|---|---|\n",
       "| 14.57168 | 17.66497 | 0.5772806 | 0.5 | 6.275287 |\n",
       "\n"
      ],
      "text/plain": [
       "  LOCATION_ID Inherent_Risk CONTROL_RISK Detection_Risk Audit_Risk\n",
       "1 14.57168    17.66497      0.5772806    0.5            6.275287  "
      ]
     },
     "metadata": {},
     "output_type": "display_data"
    }
   ],
   "source": [
    "average_risk_factors <- audit_training |> \n",
    "    select(LOCATION_ID, Inherent_Risk, CONTROL_RISK, Detection_Risk, Audit_Risk)  |> \n",
    "    group_by(LOCATION_ID)  |> \n",
    "    map_dfc(mean, na.rm = TRUE)\n",
    "average_risk_factors"
   ]
  },
  {
   "cell_type": "markdown",
   "id": "2110e8f2-f75e-4f61-b536-bbcf62820e46",
   "metadata": {},
   "source": [
    "### Relationship between variables"
   ]
  },
  {
   "cell_type": "code",
   "execution_count": 55,
   "id": "0ba1a4b4-5589-4616-8a7b-8a8d1880cc2a",
   "metadata": {},
   "outputs": [
    {
     "data": {
      "image/png": "[encoded data removed]",
      "text/plain": [
       "plot without title"
      ]
     },
     "metadata": {
      "image/png": {
       "height": 420,
       "width": 420
      }
     },
     "output_type": "display_data"
    }
   ],
   "source": [
    "IR_AR_plot <- audit_training |>\n",
    "    ggplot(aes(x = Inherent_Risk, y = Audit_Risk))+\n",
    "    geom_point(aes(colour = Risk))+\n",
    "    labs(x = \"Inherent Risk Score\", y = \"Audit Risk Score\", colour = \"Risk\")+\n",
    "    scale_x_log10(labels = comma)+\n",
    "    scale_y_log10(labels = comma)+\n",
    "    theme(text = element_text(size =20))\n",
    "IR_AR_plot"
   ]
  },
  {
   "cell_type": "code",
   "execution_count": 88,
   "id": "353f1b42-9b26-4099-a37d-aaf96d8077bd",
   "metadata": {},
   "outputs": [
    {
     "name": "stderr",
     "output_type": "stream",
     "text": [
      "Warning message:\n",
      "“Removed 2 rows containing non-finite values (stat_bin).”\n"
     ]
    },
    {
     "data": {
      "image/png": "[encoded data removed]",
      "text/plain": [
       "plot without title"
      ]
     },
     "metadata": {
      "image/png": {
       "height": 420,
       "width": 420
      }
     },
     "output_type": "display_data"
    }
   ],
   "source": [
    "Risk_proportion <- audit_training |>\n",
    "    ggplot(aes(LOCATION_ID, fill = Risk))+\n",
    "    geom_histogram(binwidth = 1)\n",
    "Risk_proportion"
   ]
  },
  {
   "cell_type": "markdown",
   "id": "336b1041-5ad7-4732-96bb-13907ecc0527",
   "metadata": {},
   "source": [
    "May have to add summary table here"
   ]
  },
  {
   "cell_type": "markdown",
   "id": "d1a7c844-f085-4339-af80-be771a19645c",
   "metadata": {},
   "source": [
    "### For later"
   ]
  },
  {
   "cell_type": "code",
   "execution_count": 72,
   "id": "0300d63c-1e2b-4154-a55f-27d40777cc9e",
   "metadata": {},
   "outputs": [
    {
     "name": "stderr",
     "output_type": "stream",
     "text": [
      "Warning message:\n",
      "“Column(s) have zero variance so scaling cannot be used: `Detection_Risk`. Consider using `step_zv()` to remove those columns before normalizing”\n",
      "\u001b[1m\u001b[22mNew names:\n",
      "\u001b[36m•\u001b[39m `Score_B...7` -> `Score_B...8`\n",
      "\u001b[36m•\u001b[39m `Score_B...11` -> `Score_B...12`\n"
     ]
    },
    {
     "data": {
      "text/html": [
       "<table class=\"dataframe\">\n",
       "<caption>A tibble: 581 × 2</caption>\n",
       "<thead>\n",
       "\t<tr><th scope=col>.pred_class</th><th scope=col>Risk</th></tr>\n",
       "\t<tr><th scope=col>&lt;fct&gt;</th><th scope=col>&lt;fct&gt;</th></tr>\n",
       "</thead>\n",
       "<tbody>\n",
       "\t<tr><td>0</td><td>0</td></tr>\n",
       "\t<tr><td>0</td><td>0</td></tr>\n",
       "\t<tr><td>0</td><td>0</td></tr>\n",
       "\t<tr><td>0</td><td>0</td></tr>\n",
       "\t<tr><td>⋮</td><td>⋮</td></tr>\n",
       "\t<tr><td>1</td><td>1</td></tr>\n",
       "\t<tr><td>1</td><td>1</td></tr>\n",
       "\t<tr><td>1</td><td>1</td></tr>\n",
       "\t<tr><td>1</td><td>1</td></tr>\n",
       "</tbody>\n",
       "</table>\n"
      ],
      "text/latex": [
       "A tibble: 581 × 2\n",
       "\\begin{tabular}{ll}\n",
       " .pred\\_class & Risk\\\\\n",
       " <fct> & <fct>\\\\\n",
       "\\hline\n",
       "\t 0 & 0\\\\\n",
       "\t 0 & 0\\\\\n",
       "\t 0 & 0\\\\\n",
       "\t 0 & 0\\\\\n",
       "\t ⋮ & ⋮\\\\\n",
       "\t 1 & 1\\\\\n",
       "\t 1 & 1\\\\\n",
       "\t 1 & 1\\\\\n",
       "\t 1 & 1\\\\\n",
       "\\end{tabular}\n"
      ],
      "text/markdown": [
       "\n",
       "A tibble: 581 × 2\n",
       "\n",
       "| .pred_class &lt;fct&gt; | Risk &lt;fct&gt; |\n",
       "|---|---|\n",
       "| 0 | 0 |\n",
       "| 0 | 0 |\n",
       "| 0 | 0 |\n",
       "| 0 | 0 |\n",
       "| ⋮ | ⋮ |\n",
       "| 1 | 1 |\n",
       "| 1 | 1 |\n",
       "| 1 | 1 |\n",
       "| 1 | 1 |\n",
       "\n"
      ],
      "text/plain": [
       "    .pred_class Risk\n",
       "1   0           0   \n",
       "2   0           0   \n",
       "3   0           0   \n",
       "4   0           0   \n",
       "⋮   ⋮           ⋮   \n",
       "578 1           1   \n",
       "579 1           1   \n",
       "580 1           1   \n",
       "581 1           1   "
      ]
     },
     "metadata": {},
     "output_type": "display_data"
    }
   ],
   "source": [
    "knn_spec <- nearest_neighbor(weight_func = \"rectangular\", neighbor = 5) |>\n",
    "    set_engine(\"kknn\") |>\n",
    "    set_mode(\"classification\")\n",
    "\n",
    "audit_recipe <- recipe(Risk ~ Inherent_Risk + CONTROL_RISK + Detection_Risk, data = audit_training) |>\n",
    "    step_scale(all_predictors()) |>\n",
    "    step_center(all_predictors())\n",
    "\n",
    "audit_fit <- workflow() |>\n",
    "    add_recipe(audit_recipe) |>\n",
    "    add_model(knn_spec) |>\n",
    "    fit(data = audit_training)\n",
    "\n",
    "audit_predict <- predict(audit_fit, audit_training) |>\n",
    "    bind_cols(audit_training) |>\n",
    "    select(.pred_class, Risk)\n",
    "audit_predict"
   ]
  },
  {
   "cell_type": "code",
   "execution_count": 73,
   "id": "25458276-b326-43a8-9595-922a4c6340e1",
   "metadata": {},
   "outputs": [
    {
     "data": {
      "text/html": [
       "<table class=\"dataframe\">\n",
       "<caption>A tibble: 2 × 3</caption>\n",
       "<thead>\n",
       "\t<tr><th scope=col>.metric</th><th scope=col>.estimator</th><th scope=col>.estimate</th></tr>\n",
       "\t<tr><th scope=col>&lt;chr&gt;</th><th scope=col>&lt;chr&gt;</th><th scope=col>&lt;dbl&gt;</th></tr>\n",
       "</thead>\n",
       "<tbody>\n",
       "\t<tr><td>accuracy</td><td>binary</td><td>0.9982788</td></tr>\n",
       "\t<tr><td>kap     </td><td>binary</td><td>0.9963878</td></tr>\n",
       "</tbody>\n",
       "</table>\n"
      ],
      "text/latex": [
       "A tibble: 2 × 3\n",
       "\\begin{tabular}{lll}\n",
       " .metric & .estimator & .estimate\\\\\n",
       " <chr> & <chr> & <dbl>\\\\\n",
       "\\hline\n",
       "\t accuracy & binary & 0.9982788\\\\\n",
       "\t kap      & binary & 0.9963878\\\\\n",
       "\\end{tabular}\n"
      ],
      "text/markdown": [
       "\n",
       "A tibble: 2 × 3\n",
       "\n",
       "| .metric &lt;chr&gt; | .estimator &lt;chr&gt; | .estimate &lt;dbl&gt; |\n",
       "|---|---|---|\n",
       "| accuracy | binary | 0.9982788 |\n",
       "| kap      | binary | 0.9963878 |\n",
       "\n"
      ],
      "text/plain": [
       "  .metric  .estimator .estimate\n",
       "1 accuracy binary     0.9982788\n",
       "2 kap      binary     0.9963878"
      ]
     },
     "metadata": {},
     "output_type": "display_data"
    }
   ],
   "source": [
    "audit_prediction_accuracy <- audit_predict |>\n",
    "    metrics(truth = Risk , estimate = .pred_class)\n",
    "audit_prediction_accuracy"
   ]
  },
  {
   "cell_type": "markdown",
   "id": "c16e83ac-fa9d-416e-b240-9502bcd7731e",
   "metadata": {},
   "source": [
    "## 3. Methods"
   ]
  },
  {
   "cell_type": "markdown",
   "id": "30ad6b8b-3b25-4b28-9e6d-73825fbf6972",
   "metadata": {},
   "source": [
    "We will conduct our data analysis using the K-nearest neighbors (K-NN) classification model. The variables that will be included are the Inherent risk, Combined Risk and the Detection Risk (DR) against the Audit Risk score. Using K-NN will help predict what group the new observations in the testing data will be classified under (risk or not risky). The results will be visualized using scatter plots to determine the respective relationships of each of the three risk factors (Inherent risk, Combined Risk and the Detection Risk) with the audit risk. By doing so, we can see how each risk factor directly impacts the audit score and we can compare the strengths of each relationship to identify which risk factor influences the audit risk score the greatest. "
   ]
  },
  {
   "cell_type": "markdown",
   "id": "f5721ec2-323c-4a26-aae2-c726ab5d36cd",
   "metadata": {},
   "source": [
    "## 4. Expected Outcomes and Significance"
   ]
  },
  {
   "cell_type": "markdown",
   "id": "01ea74dc-57fe-47c9-a8cf-fab4b415d269",
   "metadata": {},
   "source": [
    "Since Detection_Risk is kept constant at 0.5 throughout the dataset, for businesses with low individual Inherent_Risk and CONTROL_RISK scores, we expect them to have a low Audit Risk score (less than 1) and therefore have a Risk Assessment score of 0, classifying them as “not risky”. In contrast, for businesses with high individual Inherent and Control risk scores, we expect them to have a high Audit Risk score (greater than or equal to 1) and therefore have a Risk Assessment score of 1, classifying them as “risky”.\n",
    "\n",
    "We can identify the businesses that pose the most risk of committing fraud, and try to create advanced models to improve auditing practices for future investigations. These auditing practices will allow businesses to reduce their level of audit risk which will show a low risk of misstatement in the financial statement of the organization. \n",
    "\n",
    "While these findings can help improve auditing practices for future investigations, it also brings up the future question on how companies with high audit risk scores can be prevented from committing fraud in the future. It is very important for these companies to maintain a modest level of audit risk. Another future question that this could lead to is if there is any way we can reduce the number of companies that commit fraud. Finally, what are the main causes of companies who have high Audit Risk in the first place? "
   ]
  },
  {
   "cell_type": "code",
   "execution_count": null,
   "id": "6a1726de-2704-4d71-9387-aa5ac1bc3ce2",
   "metadata": {},
   "outputs": [],
   "source": []
  }
 ],
 "metadata": {
  "kernelspec": {
   "display_name": "R",
   "language": "R",
   "name": "ir"
  },
  "language_info": {
   "codemirror_mode": "r",
   "file_extension": ".r",
   "mimetype": "text/x-r-source",
   "name": "R",
   "pygments_lexer": "r",
   "version": "4.1.3"
  }
 },
 "nbformat": 4,
 "nbformat_minor": 5
}
