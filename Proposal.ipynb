{
 "cells": [
  {
   "cell_type": "markdown",
   "id": "53296056-dd4e-45a6-9d69-d5ef6465d2bc",
   "metadata": {},
   "source": [
    "# Topic"
   ]
  },
  {
   "cell_type": "markdown",
   "id": "b5d6179d-2e50-4325-919d-6bad19c306c7",
   "metadata": {},
   "source": [
    "## 1. Introduction"
   ]
  },
  {
   "cell_type": "markdown",
   "id": "68c6f1ad-b573-494a-b16a-fed5e9184ff1",
   "metadata": {},
   "source": [
    "Auditing is the process of investigating financial records of businesses to ensure that their financial statements align with the internationally-accepted legal standards. The data set used in this project is the collection of present and historical risk factors relevant to assisting auditors in appropriately identifying businesses that are risky of committing unfair practices (N. Hooda et al., 2018).\n",
    "\n",
    "Precisely, we will be using the Audit Data collected by the Comptroller and Auditor General (CAG). CAG of India is an independent constitutional body entrusted with the task of auditing the financial transactions of government-funded firms. They collected comprehensive non-confidential data from the Auditor General Office (AGO), with a focus on 777 firms from 46 Indian cities between the years 2015 to 2016. The target companies were then grouped into 14 different sectors.\n",
    "\n",
    "This data analytic project revolves around the application of predictive analytics in the classification of fraudulent firms using the case study above. Therefore, this project will attempt to tackle the following research question: Is a business risky or not risky of committing fraud based on its Inherent, Control and Detection Risk scores?\n",
    "\n",
    "The variables we will use to answer this question are the potential discrepancies that can occur during the companies’ transactions (Inherent Risk), internal audit (Control Risk) and external audit (Detection Risk). The product of these variables will give us the Audit Risk score (ARS). In the risk assessment, the companies with ARS scores more than or equal to 1 are identified as “risky” firms and are assigned a risk assessment value of 1, and companies scoring less than 1 are classified as “not risky” firms, getting a risk assessment score of 0.\n"
   ]
  },
  {
   "cell_type": "markdown",
   "id": "a2893651-9aab-4a73-91c7-3c8dae3ea740",
   "metadata": {},
   "source": [
    "## 2. Preliminary Explanatory Data Analysis"
   ]
  },
  {
   "cell_type": "code",
   "execution_count": 2,
   "id": "806e53b5-2f45-4534-98a5-f8bf1a48b26a",
   "metadata": {},
   "outputs": [
    {
     "name": "stderr",
     "output_type": "stream",
     "text": [
      "── \u001b[1mAttaching packages\u001b[22m ─────────────────────────────────────── tidyverse 1.3.1 ──\n",
      "\n",
      "\u001b[32m✔\u001b[39m \u001b[34mggplot2\u001b[39m 3.3.6     \u001b[32m✔\u001b[39m \u001b[34mpurrr  \u001b[39m 0.3.4\n",
      "\u001b[32m✔\u001b[39m \u001b[34mtibble \u001b[39m 3.1.7     \u001b[32m✔\u001b[39m \u001b[34mdplyr  \u001b[39m 1.0.9\n",
      "\u001b[32m✔\u001b[39m \u001b[34mtidyr  \u001b[39m 1.2.0     \u001b[32m✔\u001b[39m \u001b[34mstringr\u001b[39m 1.4.0\n",
      "\u001b[32m✔\u001b[39m \u001b[34mreadr  \u001b[39m 2.1.2     \u001b[32m✔\u001b[39m \u001b[34mforcats\u001b[39m 0.5.1\n",
      "\n",
      "── \u001b[1mConflicts\u001b[22m ────────────────────────────────────────── tidyverse_conflicts() ──\n",
      "\u001b[31m✖\u001b[39m \u001b[34mdplyr\u001b[39m::\u001b[32mfilter()\u001b[39m masks \u001b[34mstats\u001b[39m::filter()\n",
      "\u001b[31m✖\u001b[39m \u001b[34mdplyr\u001b[39m::\u001b[32mlag()\u001b[39m    masks \u001b[34mstats\u001b[39m::lag()\n",
      "\n",
      "── \u001b[1mAttaching packages\u001b[22m ────────────────────────────────────── tidymodels 1.0.0 ──\n",
      "\n",
      "\u001b[32m✔\u001b[39m \u001b[34mbroom       \u001b[39m 1.0.0     \u001b[32m✔\u001b[39m \u001b[34mrsample     \u001b[39m 1.0.0\n",
      "\u001b[32m✔\u001b[39m \u001b[34mdials       \u001b[39m 1.0.0     \u001b[32m✔\u001b[39m \u001b[34mtune        \u001b[39m 1.0.0\n",
      "\u001b[32m✔\u001b[39m \u001b[34minfer       \u001b[39m 1.0.2     \u001b[32m✔\u001b[39m \u001b[34mworkflows   \u001b[39m 1.0.0\n",
      "\u001b[32m✔\u001b[39m \u001b[34mmodeldata   \u001b[39m 1.0.0     \u001b[32m✔\u001b[39m \u001b[34mworkflowsets\u001b[39m 1.0.0\n",
      "\u001b[32m✔\u001b[39m \u001b[34mparsnip     \u001b[39m 1.0.0     \u001b[32m✔\u001b[39m \u001b[34myardstick   \u001b[39m 1.0.0\n",
      "\u001b[32m✔\u001b[39m \u001b[34mrecipes     \u001b[39m 1.0.1     \n",
      "\n",
      "── \u001b[1mConflicts\u001b[22m ───────────────────────────────────────── tidymodels_conflicts() ──\n",
      "\u001b[31m✖\u001b[39m \u001b[34mscales\u001b[39m::\u001b[32mdiscard()\u001b[39m masks \u001b[34mpurrr\u001b[39m::discard()\n",
      "\u001b[31m✖\u001b[39m \u001b[34mdplyr\u001b[39m::\u001b[32mfilter()\u001b[39m   masks \u001b[34mstats\u001b[39m::filter()\n",
      "\u001b[31m✖\u001b[39m \u001b[34mrecipes\u001b[39m::\u001b[32mfixed()\u001b[39m  masks \u001b[34mstringr\u001b[39m::fixed()\n",
      "\u001b[31m✖\u001b[39m \u001b[34mdplyr\u001b[39m::\u001b[32mlag()\u001b[39m      masks \u001b[34mstats\u001b[39m::lag()\n",
      "\u001b[31m✖\u001b[39m \u001b[34myardstick\u001b[39m::\u001b[32mspec()\u001b[39m masks \u001b[34mreadr\u001b[39m::spec()\n",
      "\u001b[31m✖\u001b[39m \u001b[34mrecipes\u001b[39m::\u001b[32mstep()\u001b[39m   masks \u001b[34mstats\u001b[39m::step()\n",
      "\u001b[34m•\u001b[39m Learn how to get started at \u001b[32mhttps://www.tidymodels.org/start/\u001b[39m\n",
      "\n"
     ]
    }
   ],
   "source": [
    "#load library\n",
    "options(repr.matrix.max.rows=6)\n",
    "library(tidyverse)\n",
    "library(tidymodels)\n",
    "library(repr)\n",
    "library(cowplot)"
   ]
  },
  {
   "cell_type": "code",
   "execution_count": 4,
   "id": "197600d6-df36-469a-baed-977c54b927f6",
   "metadata": {},
   "outputs": [
    {
     "name": "stderr",
     "output_type": "stream",
     "text": [
      "\u001b[1m\u001b[22mNew names:\n",
      "\u001b[36m•\u001b[39m `Score_B` -> `Score_B...7`\n",
      "\u001b[36m•\u001b[39m `Score_B` -> `Score_B...11`\n",
      "\u001b[1mRows: \u001b[22m\u001b[34m776\u001b[39m \u001b[1mColumns: \u001b[22m\u001b[34m27\u001b[39m\n",
      "\u001b[36m──\u001b[39m \u001b[1mColumn specification\u001b[22m \u001b[36m────────────────────────────────────────────────────────\u001b[39m\n",
      "\u001b[1mDelimiter:\u001b[22m \",\"\n",
      "\u001b[31mchr\u001b[39m  (1): LOCATION_ID\n",
      "\u001b[32mdbl\u001b[39m (26): Sector_score, PARA_A, Score_A, Risk_A, PARA_B, Score_B...7, Risk_B...\n",
      "\n",
      "\u001b[36mℹ\u001b[39m Use `spec()` to retrieve the full column specification for this data.\n",
      "\u001b[36mℹ\u001b[39m Specify the column types or set `show_col_types = FALSE` to quiet this message.\n",
      "Warning message in mask$eval_all_mutate(quo):\n",
      "“NAs introduced by coercion”\n"
     ]
    },
    {
     "data": {
      "text/html": [
       "<table class=\"dataframe\">\n",
       "<caption>A tibble: 581 × 27</caption>\n",
       "<thead>\n",
       "\t<tr><th scope=col>Sector_score</th><th scope=col>LOCATION_ID</th><th scope=col>PARA_A</th><th scope=col>Score_A</th><th scope=col>Risk_A</th><th scope=col>PARA_B</th><th scope=col>Score_B...7</th><th scope=col>Risk_B</th><th scope=col>TOTAL</th><th scope=col>numbers</th><th scope=col>⋯</th><th scope=col>RiSk_E</th><th scope=col>History</th><th scope=col>Prob</th><th scope=col>Risk_F</th><th scope=col>Score</th><th scope=col>Inherent_Risk</th><th scope=col>CONTROL_RISK</th><th scope=col>Detection_Risk</th><th scope=col>Audit_Risk</th><th scope=col>Risk</th></tr>\n",
       "\t<tr><th scope=col>&lt;dbl&gt;</th><th scope=col>&lt;int&gt;</th><th scope=col>&lt;dbl&gt;</th><th scope=col>&lt;dbl&gt;</th><th scope=col>&lt;dbl&gt;</th><th scope=col>&lt;dbl&gt;</th><th scope=col>&lt;dbl&gt;</th><th scope=col>&lt;dbl&gt;</th><th scope=col>&lt;dbl&gt;</th><th scope=col>&lt;dbl&gt;</th><th scope=col>⋯</th><th scope=col>&lt;dbl&gt;</th><th scope=col>&lt;dbl&gt;</th><th scope=col>&lt;dbl&gt;</th><th scope=col>&lt;dbl&gt;</th><th scope=col>&lt;dbl&gt;</th><th scope=col>&lt;dbl&gt;</th><th scope=col>&lt;dbl&gt;</th><th scope=col>&lt;dbl&gt;</th><th scope=col>&lt;dbl&gt;</th><th scope=col>&lt;fct&gt;</th></tr>\n",
       "</thead>\n",
       "<tbody>\n",
       "\t<tr><td>3.89</td><td>6</td><td>0.51</td><td>0.2</td><td>0.102</td><td>0.23</td><td>0.2</td><td>0.046</td><td>0.74</td><td>5</td><td>⋯</td><td>0.4</td><td>0</td><td>0.2</td><td>0</td><td>2</td><td>1.548</td><td>0.4</td><td>0.5</td><td>0.3096</td><td>0</td></tr>\n",
       "\t<tr><td>3.89</td><td>6</td><td>0.00</td><td>0.2</td><td>0.000</td><td>0.08</td><td>0.2</td><td>0.016</td><td>0.08</td><td>5</td><td>⋯</td><td>0.4</td><td>0</td><td>0.2</td><td>0</td><td>2</td><td>1.416</td><td>0.4</td><td>0.5</td><td>0.2832</td><td>0</td></tr>\n",
       "\t<tr><td>3.89</td><td>6</td><td>0.00</td><td>0.2</td><td>0.000</td><td>0.83</td><td>0.2</td><td>0.166</td><td>0.83</td><td>5</td><td>⋯</td><td>0.4</td><td>0</td><td>0.2</td><td>0</td><td>2</td><td>2.156</td><td>0.4</td><td>0.5</td><td>0.4312</td><td>0</td></tr>\n",
       "\t<tr><td>⋮</td><td>⋮</td><td>⋮</td><td>⋮</td><td>⋮</td><td>⋮</td><td>⋮</td><td>⋮</td><td>⋮</td><td>⋮</td><td>⋱</td><td>⋮</td><td>⋮</td><td>⋮</td><td>⋮</td><td>⋮</td><td>⋮</td><td>⋮</td><td>⋮</td><td>⋮</td><td>⋮</td></tr>\n",
       "\t<tr><td>55.57</td><td> 2</td><td>1.06</td><td>0.4</td><td>0.424</td><td>0.63</td><td>0.2</td><td>0.126</td><td>1.69</td><td>5</td><td>⋯</td><td>1.2</td><td>0</td><td>0.2</td><td>0</td><td>2.6</td><td> 2.930</td><td>1.2</td><td>0.5</td><td>1.7580</td><td>1</td></tr>\n",
       "\t<tr><td>55.57</td><td>32</td><td>0.00</td><td>0.2</td><td>0.000</td><td>8.49</td><td>0.6</td><td>5.094</td><td>8.49</td><td>5</td><td>⋯</td><td>0.4</td><td>0</td><td>0.2</td><td>0</td><td>3.2</td><td> 6.580</td><td>0.4</td><td>0.5</td><td>1.3160</td><td>1</td></tr>\n",
       "\t<tr><td>55.57</td><td>13</td><td>1.06</td><td>0.4</td><td>0.424</td><td>1.60</td><td>0.4</td><td>0.640</td><td>2.66</td><td>5</td><td>⋯</td><td>0.4</td><td>0</td><td>0.2</td><td>0</td><td>3.2</td><td>12.118</td><td>0.4</td><td>0.5</td><td>2.4236</td><td>1</td></tr>\n",
       "</tbody>\n",
       "</table>\n"
      ],
      "text/latex": [
       "A tibble: 581 × 27\n",
       "\\begin{tabular}{lllllllllllllllllllll}\n",
       " Sector\\_score & LOCATION\\_ID & PARA\\_A & Score\\_A & Risk\\_A & PARA\\_B & Score\\_B...7 & Risk\\_B & TOTAL & numbers & ⋯ & RiSk\\_E & History & Prob & Risk\\_F & Score & Inherent\\_Risk & CONTROL\\_RISK & Detection\\_Risk & Audit\\_Risk & Risk\\\\\n",
       " <dbl> & <int> & <dbl> & <dbl> & <dbl> & <dbl> & <dbl> & <dbl> & <dbl> & <dbl> & ⋯ & <dbl> & <dbl> & <dbl> & <dbl> & <dbl> & <dbl> & <dbl> & <dbl> & <dbl> & <fct>\\\\\n",
       "\\hline\n",
       "\t 3.89 & 6 & 0.51 & 0.2 & 0.102 & 0.23 & 0.2 & 0.046 & 0.74 & 5 & ⋯ & 0.4 & 0 & 0.2 & 0 & 2 & 1.548 & 0.4 & 0.5 & 0.3096 & 0\\\\\n",
       "\t 3.89 & 6 & 0.00 & 0.2 & 0.000 & 0.08 & 0.2 & 0.016 & 0.08 & 5 & ⋯ & 0.4 & 0 & 0.2 & 0 & 2 & 1.416 & 0.4 & 0.5 & 0.2832 & 0\\\\\n",
       "\t 3.89 & 6 & 0.00 & 0.2 & 0.000 & 0.83 & 0.2 & 0.166 & 0.83 & 5 & ⋯ & 0.4 & 0 & 0.2 & 0 & 2 & 2.156 & 0.4 & 0.5 & 0.4312 & 0\\\\\n",
       "\t ⋮ & ⋮ & ⋮ & ⋮ & ⋮ & ⋮ & ⋮ & ⋮ & ⋮ & ⋮ & ⋱ & ⋮ & ⋮ & ⋮ & ⋮ & ⋮ & ⋮ & ⋮ & ⋮ & ⋮ & ⋮\\\\\n",
       "\t 55.57 &  2 & 1.06 & 0.4 & 0.424 & 0.63 & 0.2 & 0.126 & 1.69 & 5 & ⋯ & 1.2 & 0 & 0.2 & 0 & 2.6 &  2.930 & 1.2 & 0.5 & 1.7580 & 1\\\\\n",
       "\t 55.57 & 32 & 0.00 & 0.2 & 0.000 & 8.49 & 0.6 & 5.094 & 8.49 & 5 & ⋯ & 0.4 & 0 & 0.2 & 0 & 3.2 &  6.580 & 0.4 & 0.5 & 1.3160 & 1\\\\\n",
       "\t 55.57 & 13 & 1.06 & 0.4 & 0.424 & 1.60 & 0.4 & 0.640 & 2.66 & 5 & ⋯ & 0.4 & 0 & 0.2 & 0 & 3.2 & 12.118 & 0.4 & 0.5 & 2.4236 & 1\\\\\n",
       "\\end{tabular}\n"
      ],
      "text/markdown": [
       "\n",
       "A tibble: 581 × 27\n",
       "\n",
       "| Sector_score &lt;dbl&gt; | LOCATION_ID &lt;int&gt; | PARA_A &lt;dbl&gt; | Score_A &lt;dbl&gt; | Risk_A &lt;dbl&gt; | PARA_B &lt;dbl&gt; | Score_B...7 &lt;dbl&gt; | Risk_B &lt;dbl&gt; | TOTAL &lt;dbl&gt; | numbers &lt;dbl&gt; | ⋯ ⋯ | RiSk_E &lt;dbl&gt; | History &lt;dbl&gt; | Prob &lt;dbl&gt; | Risk_F &lt;dbl&gt; | Score &lt;dbl&gt; | Inherent_Risk &lt;dbl&gt; | CONTROL_RISK &lt;dbl&gt; | Detection_Risk &lt;dbl&gt; | Audit_Risk &lt;dbl&gt; | Risk &lt;fct&gt; |\n",
       "|---|---|---|---|---|---|---|---|---|---|---|---|---|---|---|---|---|---|---|---|---|\n",
       "| 3.89 | 6 | 0.51 | 0.2 | 0.102 | 0.23 | 0.2 | 0.046 | 0.74 | 5 | ⋯ | 0.4 | 0 | 0.2 | 0 | 2 | 1.548 | 0.4 | 0.5 | 0.3096 | 0 |\n",
       "| 3.89 | 6 | 0.00 | 0.2 | 0.000 | 0.08 | 0.2 | 0.016 | 0.08 | 5 | ⋯ | 0.4 | 0 | 0.2 | 0 | 2 | 1.416 | 0.4 | 0.5 | 0.2832 | 0 |\n",
       "| 3.89 | 6 | 0.00 | 0.2 | 0.000 | 0.83 | 0.2 | 0.166 | 0.83 | 5 | ⋯ | 0.4 | 0 | 0.2 | 0 | 2 | 2.156 | 0.4 | 0.5 | 0.4312 | 0 |\n",
       "| ⋮ | ⋮ | ⋮ | ⋮ | ⋮ | ⋮ | ⋮ | ⋮ | ⋮ | ⋮ | ⋱ | ⋮ | ⋮ | ⋮ | ⋮ | ⋮ | ⋮ | ⋮ | ⋮ | ⋮ | ⋮ |\n",
       "| 55.57 |  2 | 1.06 | 0.4 | 0.424 | 0.63 | 0.2 | 0.126 | 1.69 | 5 | ⋯ | 1.2 | 0 | 0.2 | 0 | 2.6 |  2.930 | 1.2 | 0.5 | 1.7580 | 1 |\n",
       "| 55.57 | 32 | 0.00 | 0.2 | 0.000 | 8.49 | 0.6 | 5.094 | 8.49 | 5 | ⋯ | 0.4 | 0 | 0.2 | 0 | 3.2 |  6.580 | 0.4 | 0.5 | 1.3160 | 1 |\n",
       "| 55.57 | 13 | 1.06 | 0.4 | 0.424 | 1.60 | 0.4 | 0.640 | 2.66 | 5 | ⋯ | 0.4 | 0 | 0.2 | 0 | 3.2 | 12.118 | 0.4 | 0.5 | 2.4236 | 1 |\n",
       "\n"
      ],
      "text/plain": [
       "    Sector_score LOCATION_ID PARA_A Score_A Risk_A PARA_B Score_B...7 Risk_B\n",
       "1   3.89         6           0.51   0.2     0.102  0.23   0.2         0.046 \n",
       "2   3.89         6           0.00   0.2     0.000  0.08   0.2         0.016 \n",
       "3   3.89         6           0.00   0.2     0.000  0.83   0.2         0.166 \n",
       "⋮   ⋮            ⋮           ⋮      ⋮       ⋮      ⋮      ⋮           ⋮     \n",
       "579 55.57         2          1.06   0.4     0.424  0.63   0.2         0.126 \n",
       "580 55.57        32          0.00   0.2     0.000  8.49   0.6         5.094 \n",
       "581 55.57        13          1.06   0.4     0.424  1.60   0.4         0.640 \n",
       "    TOTAL numbers ⋯ RiSk_E History Prob Risk_F Score Inherent_Risk CONTROL_RISK\n",
       "1   0.74  5       ⋯ 0.4    0       0.2  0      2     1.548         0.4         \n",
       "2   0.08  5       ⋯ 0.4    0       0.2  0      2     1.416         0.4         \n",
       "3   0.83  5       ⋯ 0.4    0       0.2  0      2     2.156         0.4         \n",
       "⋮   ⋮     ⋮       ⋱ ⋮      ⋮       ⋮    ⋮      ⋮     ⋮             ⋮           \n",
       "579 1.69  5       ⋯ 1.2    0       0.2  0      2.6    2.930        1.2         \n",
       "580 8.49  5       ⋯ 0.4    0       0.2  0      3.2    6.580        0.4         \n",
       "581 2.66  5       ⋯ 0.4    0       0.2  0      3.2   12.118        0.4         \n",
       "    Detection_Risk Audit_Risk Risk\n",
       "1   0.5            0.3096     0   \n",
       "2   0.5            0.2832     0   \n",
       "3   0.5            0.4312     0   \n",
       "⋮   ⋮              ⋮          ⋮   \n",
       "579 0.5            1.7580     1   \n",
       "580 0.5            1.3160     1   \n",
       "581 0.5            2.4236     1   "
      ]
     },
     "metadata": {},
     "output_type": "display_data"
    }
   ],
   "source": [
    "#Read dataset and correct variable types\n",
    "audit_data <- read_csv(\"data/audit_risk.csv\") |>\n",
    "    mutate(Risk = as.factor(Risk)) |>\n",
    "    mutate(LOCATION_ID = as.integer(LOCATION_ID))\n",
    "\n",
    "#Splitting data into training set and testing set\n",
    "set.seed(265)\n",
    "audit_split <- initial_split(audit_data, prop = 0.75, strata = Risk)\n",
    "audit_training <- training(audit_split)\n",
    "audit_testing <- testing(audit_split)\n",
    "\n",
    "#Printing training data set\n",
    "audit_training"
   ]
  },
  {
   "cell_type": "markdown",
   "id": "df988d2c-d60f-4483-9c1c-2fc57b89283b",
   "metadata": {},
   "source": [
    "Although the dataset does not include sector ID for each unique sector, we hypothesized that each sector should have a unique historical sector risk score (Sector_score). Thus, we will count how many unique sector score there are and the number of firms under each sector score. "
   ]
  },
  {
   "cell_type": "code",
   "execution_count": 5,
   "id": "8281f6d8-e53e-44ab-bbea-1053448f774f",
   "metadata": {},
   "outputs": [
    {
     "name": "stdout",
     "output_type": "stream",
     "text": [
      "\u001b[90m# A tibble: 13 × 2\u001b[39m\n",
      "   Sector_score firm_count\n",
      "          \u001b[3m\u001b[90m<dbl>\u001b[39m\u001b[23m      \u001b[3m\u001b[90m<int>\u001b[39m\u001b[23m\n",
      "\u001b[90m 1\u001b[39m         1.85         95\n",
      "\u001b[90m 2\u001b[39m         1.99         47\n",
      "\u001b[90m 3\u001b[39m         2.34          5\n",
      "\u001b[90m 4\u001b[39m         2.36          1\n",
      "\u001b[90m 5\u001b[39m         2.37         74\n",
      "\u001b[90m 6\u001b[39m         2.72         82\n",
      "\u001b[90m 7\u001b[39m         3.41         76\n",
      "\u001b[90m 8\u001b[39m         3.89        114\n",
      "\u001b[90m 9\u001b[39m        15.6           3\n",
      "\u001b[90m10\u001b[39m        17.7           1\n",
      "\u001b[90m11\u001b[39m        21.6          41\n",
      "\u001b[90m12\u001b[39m        55.6         200\n",
      "\u001b[90m13\u001b[39m        59.8          37\n"
     ]
    }
   ],
   "source": [
    "#Table reporting number of sectors and number of firms under each sector\n",
    "firm_count <- audit_data |>\n",
    "    select(Sector_score) |>\n",
    "group_by(Sector_score) |>\n",
    "    summarise(firm_count = n())\n",
    "print(firm_count)"
   ]
  },
  {
   "cell_type": "markdown",
   "id": "34918440-56c0-442b-b510-a8a702ea0f05",
   "metadata": {},
   "source": [
    "The table shows 13 different unique sector scores, however, there are supposed to be 14 sectors. Hence, this also caused some of the firm counts under each sector to not match up. This could be due to some sectors having exactly equal sector risk scores, making the sector_score an inaccurate variable to count for number of sectors and number of firms under them. "
   ]
  },
  {
   "cell_type": "code",
   "execution_count": null,
   "id": "0ba1a4b4-5589-4616-8a7b-8a8d1880cc2a",
   "metadata": {},
   "outputs": [],
   "source": []
  }
 ],
 "metadata": {
  "kernelspec": {
   "display_name": "R",
   "language": "R",
   "name": "ir"
  },
  "language_info": {
   "codemirror_mode": "r",
   "file_extension": ".r",
   "mimetype": "text/x-r-source",
   "name": "R",
   "pygments_lexer": "r",
   "version": "4.1.3"
  }
 },
 "nbformat": 4,
 "nbformat_minor": 5
}
